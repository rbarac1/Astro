{
 "cells": [
  {
   "cell_type": "code",
   "execution_count": 10,
   "metadata": {},
   "outputs": [],
   "source": [
    "from astropy.io import ascii\n",
    "\n",
    "table1 = ascii.read('IC_348_Luhman.mrt', format='mrt')\n",
    "table2 = ascii.read('NGC1333_scholz2012.txt', format='tab')\n"
   ]
  },
  {
   "cell_type": "code",
   "execution_count": 1,
   "metadata": {},
   "outputs": [
    {
     "ename": "NameError",
     "evalue": "name 'table2' is not defined",
     "output_type": "error",
     "traceback": [
      "\u001b[0;31m---------------------------------------------------------------------------\u001b[0m",
      "\u001b[0;31mNameError\u001b[0m                                 Traceback (most recent call last)",
      "\u001b[1;32m/Users/roccobarac/Documents/Astro/Untitled.ipynb Cell 2\u001b[0m in \u001b[0;36m<cell line: 1>\u001b[0;34m()\u001b[0m\n\u001b[0;32m----> <a href='vscode-notebook-cell:/Users/roccobarac/Documents/Astro/Untitled.ipynb#W1sZmlsZQ%3D%3D?line=0'>1</a>\u001b[0m table2[\u001b[39m0\u001b[39m][\u001b[39m\"\u001b[39m\u001b[39mJ\u001b[39m\u001b[39m\"\u001b[39m]\n",
      "\u001b[0;31mNameError\u001b[0m: name 'table2' is not defined"
     ]
    }
   ],
   "source": [
    "table2[0][\"J\"]\n",
    "#table2[\"SpType\"]aaa"
   ]
  },
  {
   "cell_type": "code",
   "execution_count": 3,
   "metadata": {},
   "outputs": [
    {
     "name": "stdout",
     "output_type": "stream",
     "text": [
      "<TableColumns names=('Name','RAh','RAm','RAs','DE-','DEd','DEm','DEs','Strom','Aspin','Lada','Getman','Wilking','Gutermuth','Oasa','Evans','Scholz','Winston','Rebull','OtherNames','SpType','r_SpType','Spectrograph','Date','Adopt','Aj','IRexc','Evidence','pmRA','e_pmRA','pmDE','e_pmDE','Jmag','e_Jmag','Hmag','e_Hmag','Ksmag','e_Ksmag','JHKref','AV')>\n",
      "<TableColumns names=('ID','alpha(J2000)','delta(J2000)','J','K','SpT','A_V','A_V_1','T_eff','Comments','AJ')>\n",
      "number of objects in the first catalog: 203\n",
      "number of objects in the second catalog: 7\n",
      "number of common objects: 7\n"
     ]
    }
   ],
   "source": [
    "from astropy.io import ascii\n",
    "from astropy.coordinates import SkyCoord\n",
    "import astropy.units as u\n",
    "import numpy as np\n",
    "from astropy.table import Table,vstack\n",
    "\n",
    "t1 = ascii.read('NGC1333_Luhman.mrt', format='mrt')\n",
    "t2 = ascii.read('NGC1333_scholz2012.txt',format='tab')\n",
    "#we will want to save the extinction later, but the two tables have it in different wavelengths.\n",
    "#Therefore I create a new column with no values in each table to represent the \"other\" extincion\n",
    "t1['AV']=np.nan #add a column with no values to t1\n",
    "t2['AJ']=np.nan #add a column with no values to t2\n",
    "\n",
    "print(t1.columns)\n",
    "print(t2.columns)\n",
    "\n",
    "#convert the coordinate columns of t1 into format hh:mm:ss dd:mm:ss (similar to t2)\n",
    "ra1=[str(t1['RAh'][i]) + ':' +  str(t1['RAm'][i]) + ':' +  str(t1['RAs'][i]) for i in range(len(t1))]\n",
    "dec1=[t1['DE-'][i] + str(t1['DEd'][i]) + ':' +  str(t1['DEm'][i]) + ':' +  str(t1['DEs'][i]) for i in range(len(t1))]\n",
    "\n",
    "#Convert ra and dec for the two catalogs into format good for matching\n",
    "c1 = SkyCoord(ra=ra1, dec=dec1, unit=(u.hourangle, u.deg))\n",
    "c2 = SkyCoord(ra=t2['alpha(J2000)'], dec=t2['delta(J2000)'], unit=(u.hourangle, u.deg))\n",
    "\n",
    "#We want to save all the common objects + un-matched objects from each of the tables\n",
    "#match the catalog2 (t2) to catalog1 (t1)\n",
    "idx, d2d, d3d = c2.match_to_catalog_sky(c1)\n",
    "max_sep = 1.0 * u.arcsec #matchng radius\n",
    "idx_sep = d2d < max_sep #all sources that have separation below max_sep arcsec\n",
    "#in this syntax:\n",
    "#t2[idx_sep]        -> all matched from the table t2\n",
    "#t1[idx[idx_sep]]   -> all matched from the table t1\n",
    "#t2[~idx_sep]       -> all un-matched from the table t2\n",
    "t1_common=t1[idx[idx_sep]]\n",
    "t2_only=t2[~idx_sep]\n",
    "c1_common=c1[idx[idx_sep]] #to keep the coordinates in this format\n",
    "c2_only=c2[~idx_sep] #to keep the coordinates in this format\n",
    "t1_common['AV'] = t2[idx_sep]['A_V'] #for the matched elements, update the AV column in t1\n",
    "\n",
    "#now repeat the same but vice-versa to get t1_only\n",
    "idx, d2d, d3d = c1.match_to_catalog_sky(c2)\n",
    "max_sep = 1.0 * u.arcsec #matchng radius\n",
    "idx_sep = d2d < max_sep #all sources that have separation below max_sep arcsec\n",
    "t1_only=t1[~idx_sep]\n",
    "c1_only=c1[~idx_sep]\n",
    "\n",
    "print('number of objects in the first catalog:', len(t1))\n",
    "print('number of objects in the second catalog:', len(t2))\n",
    "print('number of common objects:', np.sum(idx_sep))\n",
    "\n",
    "#create a new table to save the results\n",
    "t = Table()\n",
    "#saving common sources, non-matched from the first, non-matched from the second\n",
    "\n",
    "ra=np.hstack((c1_common.ra, c1_only.ra, c2_only.ra))\n",
    "dec=np.hstack((c1_common.dec, c1_only.dec, c2_only.dec))\n",
    "spt=np.hstack((t1_common['Adopt'], t1_only['Adopt'],t2_only['SpT']))\n",
    "j=np.hstack((np.array(t1_common['Jmag']), np.array(t1_only['Jmag']),t2_only['J'])) #np.array added because the first arrays have units  and the last one doesn't, so python complained\n",
    "h=np.hstack((np.array(t1_common['Hmag']), np.array(t1_only['Hmag']))) #the second table doesn't contain H-band magnitude, but it's at the end so it can be left like this\n",
    "k=np.hstack((np.array(t1_common['Ksmag']), np.array(t1_only['Ksmag']),t2_only['K'])) #np.array added because the first arrays have units  and the last one doesn't, so python complained\n",
    "av=np.hstack((t1_common['AV'], t1_only['AV'],t2_only['A_V']))\n",
    "aj=np.hstack((t1_common['Aj'], t1_only['Aj'],t2_only['AJ']))\n",
    "t['ra'] = ra\n",
    "t['dec'] = dec\n",
    "t['spt'] = spt\n",
    "t['J'] = j\n",
    "t['H'] = h\n",
    "t['K'] = k\n",
    "#also save the extinction. In the first table that's AJ and in the second one Av. Save both\n",
    "t['AJ']= aj\n",
    "t['AV']=av\n",
    "\n",
    "#save the table\n",
    "t.write('NGC1333.cat',format='ascii',overwrite=True)\n"
   ]
  }
 ],
 "metadata": {
  "kernelspec": {
   "display_name": "Python 3.10.2 64-bit",
   "language": "python",
   "name": "python3"
  },
  "language_info": {
   "codemirror_mode": {
    "name": "ipython",
    "version": 3
   },
   "file_extension": ".py",
   "mimetype": "text/x-python",
   "name": "python",
   "nbconvert_exporter": "python",
   "pygments_lexer": "ipython3",
   "version": "3.10.2"
  },
  "vscode": {
   "interpreter": {
    "hash": "aee8b7b246df8f9039afb4144a1f6fd8d2ca17a180786b69acc140d282b71a49"
   }
  }
 },
 "nbformat": 4,
 "nbformat_minor": 2
}
